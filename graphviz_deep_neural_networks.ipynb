{
 "cells": [
  {
   "cell_type": "markdown",
   "id": "7b54df94-3c6a-4958-b72b-2f84dced4848",
   "metadata": {},
   "source": [
    "# 1. Graphs"
   ]
  },
  {
   "cell_type": "code",
   "execution_count": 3,
   "id": "97250290-b2d4-4028-b598-9766fc4742e1",
   "metadata": {
    "scrolled": true
   },
   "outputs": [
    {
     "data": {
      "text/plain": [
       "'outputs/Graph.png'"
      ]
     },
     "execution_count": 3,
     "metadata": {},
     "output_type": "execute_result"
    }
   ],
   "source": [
    "# import module \n",
    "from graphviz import Digraph \n",
    "  \n",
    "# instantiating object \n",
    "dot = Digraph(comment='A Round Graph') \n",
    "  \n",
    "# Adding nodes \n",
    "dot.node('A', 'Alex') \n",
    "dot.node('B', 'Rishu') \n",
    "dot.node('C', 'Mohe') \n",
    "dot.node('D', 'Satyam') \n",
    "  \n",
    "# Adding edges \n",
    "dot.edges(['AB', 'AC', 'AD']) \n",
    "dot.edge('B', 'C', constraint = 'false') \n",
    "dot.edge('C', 'D', constraint = 'false') \n",
    "  \n",
    "# saving source code \n",
    "dot.format = 'png'\n",
    "dot.render('outputs/Graph', view = True) "
   ]
  },
  {
   "cell_type": "code",
   "execution_count": 4,
   "id": "03880933-01e5-4e51-83c5-68587d314739",
   "metadata": {},
   "outputs": [
    {
     "name": "stdout",
     "output_type": "stream",
     "text": [
      "// A Round Graph\n",
      "digraph {\n",
      "\tA [label=Alex]\n",
      "\tB [label=Rishu]\n",
      "\tC [label=Mohe]\n",
      "\tD [label=Satyam]\n",
      "\tA -> B\n",
      "\tA -> C\n",
      "\tA -> D\n",
      "\tB -> C [constraint=false]\n",
      "\tC -> D [constraint=false]\n",
      "}\n",
      "\n"
     ]
    }
   ],
   "source": [
    "print(dot.source)"
   ]
  },
  {
   "cell_type": "markdown",
   "id": "f1d4a56c-f786-45a7-834b-7b7d6b7a8685",
   "metadata": {},
   "source": [
    "# 2. Neural Networks\n",
    "- `label`:\n",
    "- `labelloc`: If `labelloc=t`, `labelloc=c`, `labelloc=b`, the label is aligned with the top, centered, or the bottom of the node respectively.\n",
    "- `fontsize`:"
   ]
  },
  {
   "cell_type": "code",
   "execution_count": 9,
   "id": "5eb3825d-83ed-4032-9857-09368c8535a6",
   "metadata": {},
   "outputs": [
    {
     "name": "stdout",
     "output_type": "stream",
     "text": [
      "/home/yungshun317/workspace/py/py-graph-visualization\n"
     ]
    }
   ],
   "source": [
    "!cd /home/yungshun317/workspace/py/py-graph-visualization\n",
    "!pwd"
   ]
  },
  {
   "cell_type": "code",
   "execution_count": 8,
   "id": "c080a0d6-eeb7-4645-88b5-d3bbae3156f6",
   "metadata": {},
   "outputs": [
    {
     "name": "stdout",
     "output_type": "stream",
     "text": [
      "Usage: dot [-Vv?] [-(GNE)name=val] [-(KTlso)<val>] <dot files>\n",
      "(additional options for neato)    [-x] [-n<v>]\n",
      "(additional options for fdp)      [-L(gO)] [-L(nUCT)<val>]\n",
      "(additional options for memtest)  [-m<v>]\n",
      "(additional options for config)  [-cv]\n",
      "\n",
      " -V          - Print version and exit\n",
      " -v          - Enable verbose mode \n",
      " -Gname=val  - Set graph attribute 'name' to 'val'\n",
      " -Nname=val  - Set node attribute 'name' to 'val'\n",
      " -Ename=val  - Set edge attribute 'name' to 'val'\n",
      " -Tv         - Set output format to 'v'\n",
      " -Kv         - Set layout engine to 'v' (overrides default based on command name)\n",
      " -lv         - Use external library 'v'\n",
      " -ofile      - Write output to 'file'\n",
      " -O          - Automatically generate an output filename based on the input filename with a .'format' appended. (Causes all -ofile options to be ignored.) \n",
      " -P          - Internally generate a graph of the current plugins. \n",
      " -q[l]       - Set level of message suppression (=1)\n",
      " -s[v]       - Scale input by 'v' (=72)\n",
      " -y          - Invert y coordinate in output\n",
      "\n",
      " -n[v]       - No layout mode 'v' (=1)\n",
      " -x          - Reduce graph\n",
      "\n",
      " -Lg         - Don't use grid\n",
      " -LO         - Use old attractive force\n",
      " -Ln<i>      - Set number of iterations to i\n",
      " -LU<i>      - Set unscaled factor to i\n",
      " -LC<v>      - Set overlap expansion factor to v\n",
      " -LT[*]<v>   - Set temperature (temperature factor) to v\n",
      "\n",
      " -m          - Memory test (Observe no growth with top. Kill when done.)\n",
      " -m[v]       - Memory test - v iterations.\n",
      "\n",
      " -c          - Configure plugins (Writes $prefix/lib/graphviz/config \n",
      "               with available plugin information.  Needs write privilege.)\n",
      " -?          - Print usage and exit\n"
     ]
    }
   ],
   "source": [
    "!dot -?"
   ]
  },
  {
   "cell_type": "code",
   "execution_count": 29,
   "id": "f123c901-6f03-458f-8747-116aa3263f0e",
   "metadata": {},
   "outputs": [],
   "source": [
    "!dot -Tsvg -o outputs/ann.svg ann.txt"
   ]
  },
  {
   "cell_type": "code",
   "execution_count": 19,
   "id": "12e298bf-e1ee-4a19-acd1-0304d1b566a2",
   "metadata": {},
   "outputs": [],
   "source": [
    "!dot -Tsvg -o outputs/dnn.svg dnn.txt"
   ]
  },
  {
   "cell_type": "code",
   "execution_count": null,
   "id": "50235989-e9f4-4dd2-994b-0f1565145bdb",
   "metadata": {},
   "outputs": [],
   "source": []
  }
 ],
 "metadata": {
  "kernelspec": {
   "display_name": "Python 3 (ipykernel)",
   "language": "python",
   "name": "python3"
  },
  "language_info": {
   "codemirror_mode": {
    "name": "ipython",
    "version": 3
   },
   "file_extension": ".py",
   "mimetype": "text/x-python",
   "name": "python",
   "nbconvert_exporter": "python",
   "pygments_lexer": "ipython3",
   "version": "3.12.3"
  }
 },
 "nbformat": 4,
 "nbformat_minor": 5
}
